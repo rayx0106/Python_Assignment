{
 "cells": [
  {
   "cell_type": "markdown",
   "metadata": {},
   "source": [
    "# Python Assignment\n",
    "This jupyter notebook documents the complete workflow for data analysis using Dr. X's python scripts\n",
    "\n",
    "Assignment submitted by David D. Ray"
   ]
  },
  {
   "cell_type": "markdown",
   "metadata": {},
   "source": [
    "### Python Environment: Required Files\n",
    "Three files are required for workflow analysis\n",
    "    * sequence_translate.py\n",
    "    * penguins_mass.csv\n",
    "    * penguins_cytb.fasta\n",
    "\n",
    "These files can be found in the repository associated with this jupyter notebook:\n",
    "https://github.com/rayx0106/Python_Assignment"
   ]
  },
  {
   "cell_type": "code",
   "execution_count": 150,
   "metadata": {
    "scrolled": true
   },
   "outputs": [
    {
     "name": "stdout",
     "output_type": "stream",
     "text": [
      "BCB546X_Fall_2019_Python_Assignment.ipynb\r\n",
      "README.md\r\n",
      "penguins_cytb.fasta\r\n",
      "penguins_mass.csv\r\n",
      "penguins_mass_cytb.csv\r\n",
      "sequence_translate.py\r\n"
     ]
    }
   ],
   "source": [
    "ls"
   ]
  },
  {
   "cell_type": "markdown",
   "metadata": {},
   "source": [
    "### Python Environment: Required Modules\n",
    "```\n",
    "$ pip install biopython # using a terminal\n",
    "\n",
    "or \n",
    "\n",
    "$ conda install biopythong # using anacanda through a terminal\n",
    "```\n"
   ]
  },
  {
   "cell_type": "markdown",
   "metadata": {},
   "source": [
    "#### Once biopython is installed  we need to install the following modules\n",
    "```\n",
    "from Bio import SeqIO\n",
    "from Bio.Data import CodonTable\n",
    "import pandas as pd\n",
    "```\n",
    "\n",
    "    * The SeqIO module enables reading in sequences from FASTA files\n",
    "    * The CodonTabe module enables translation of nucleotides to amino acids\n",
    "    * The pd module reads in our data directly into our DataFrame (remember a DataFrame is 0-based index)"
   ]
  },
  {
   "cell_type": "code",
   "execution_count": 151,
   "metadata": {},
   "outputs": [],
   "source": [
    "from Bio import SeqIO # from the Bio package we import SeqIO module\n",
    "from Bio.Data import CodonTable # from the Bio.Data package we import the CondonTable module\n",
    "import pandas as pd # we import Pandas library and assign the nickname pd"
   ]
  },
  {
   "cell_type": "markdown",
   "metadata": {},
   "source": [
    "## Functions"
   ]
  },
  {
   "cell_type": "markdown",
   "metadata": {},
   "source": [
    "### Part 1: Import Fasta Sequences"
   ]
  },
  {
   "cell_type": "markdown",
   "metadata": {},
   "source": [
    "#### Dr. X's code\n",
    "```\n",
    "def get_sequences_from_file(fasta_fn):\n",
    "    sequence_data_dict = {}\n",
    "    for record in SeqIO.parse(fasta_fn, \"fasta\"):\n",
    "        description = record.description.split()\n",
    "        species_name = description[1] + \" \" + description[2]\n",
    "        sequence_data_dict[species_name] = record.seq\n",
    "    return(sequence_data_dict)\n",
    "```\n",
    "Syntax Explained:\n",
    "* This code defines a function called ```get_sequences_from_file``` that reads a fasta file using the ```fasta_fn``` argument\n",
    "* ```sequence_data_dict``` creates a empty dictionary for storing keys and values \n",
    "* Explanation of the for loop\n",
    "    1. The ```for``` loop interates through each record in the input fasta file\n",
    "    2. The ```SeqIO.parse()``` function access the file content\n",
    "    3. The ```record``` variable initated is used to store the parsed record\n",
    "* Loop body\n",
    "    1. An object called ```description``` is initiated stores the meta data (i.e. fasta header) of the ```record``` and the ```split()``` function seperates the header data stored as a string into a ```list``` of elements\n",
    "    2. We initiate an object called ```species_name``` and we call the second and third elemet of the ```description``` list. Remember python is 0-indexed so ```description[1]``` indexes the 2nd element and ```description[2]``` indexes the 3rd element of the list. There is a deliberate blane between the two elements.\n",
    "   (Remember in standard fasta output we will see the these indexes to be *genus* then *species*) \n",
    "    3. The DNA sequence of ```record``` is added to the ```sequence_data_dict``` dictionary using ```species_name``` as the index\n",
    "* Return\n",
    "    1. After interating through every ```record``` element of the fasta file, a ```return``` function returns a initiated dictionary\n",
    "\n"
   ]
  },
  {
   "cell_type": "code",
   "execution_count": 152,
   "metadata": {},
   "outputs": [],
   "source": [
    "def get_sequences_from_file(fasta_fn):\n",
    "    sequence_data_dict = {}\n",
    "    for record in SeqIO.parse(fasta_fn, \"fasta\"):\n",
    "        description = record.description.split()\n",
    "        species_name = description[1] + \" \" + description[2]\n",
    "        sequence_data_dict[species_name] = record.seq\n",
    "    return(sequence_data_dict)\n"
   ]
  },
  {
   "cell_type": "markdown",
   "metadata": {},
   "source": [
    "Now use the ```get_sequences_from_file``` function to read in ```penguins_cytb.fasta``` file"
   ]
  },
  {
   "cell_type": "code",
   "execution_count": 153,
   "metadata": {},
   "outputs": [],
   "source": [
    "penguins_cytb_seqs = get_sequences_from_file(\"penguins_cytb.fasta\")"
   ]
  },
  {
   "cell_type": "code",
   "execution_count": 154,
   "metadata": {},
   "outputs": [
    {
     "data": {
      "text/plain": [
       "{'Aptenodytes forsteri': Seq('ATGGCCCCAAATCTCCGAAAATCCCATCCCCTCCTAAAAATAATTAATAACTCC...TAA', SingleLetterAlphabet()),\n",
       " 'Aptenodytes patagonicus': Seq('ATGGCCCCAAACCTCCGAAAATCCCATCCTCTCCTAAAAATAATTAATAACTCC...TAA', SingleLetterAlphabet()),\n",
       " 'Eudyptes chrysocome': Seq('ATGGCCCCCAACCTCCGAAAATCCCACCCCCTCCTAAAAACAATCAATAACTCC...TAA', SingleLetterAlphabet()),\n",
       " 'Eudyptes chrysolophus': Seq('ATGGCCCCCAACCTCCGAAAATCCCACCCCCTCCTAAAAACAATCAATAACTCC...TAA', SingleLetterAlphabet()),\n",
       " 'Eudyptes sclateri': Seq('ATGGCCCCCAACCTCCGAAAATCCCACCCCCTCCTAAAAACAATCAATAACTCC...TAA', SingleLetterAlphabet()),\n",
       " 'Eudyptula minor': Seq('ATGGCCCCCAACCTCCGAAAATCTCACCCCCTCCTAAAAATAATCAACAACTCT...TAA', SingleLetterAlphabet()),\n",
       " 'Pygoscelis adeliae': Seq('ATGGCCCCCAACCTCCGAAAATCCCACCCTCTCCTAAAAATAATTAACAACTCC...TAA', SingleLetterAlphabet()),\n",
       " 'Pygoscelis antarctica': Seq('ATGGCCCCCAACCTCCGAAAATCCCACCCTCTCCTAAAAATAATCAACAACTCC...TAG', SingleLetterAlphabet()),\n",
       " 'Pygoscelis papua': Seq('ATGGCCCCCAACCTTCGAAAATCCCACCCTCTCCTAAAAATAATCAACAAATCC...TAG', SingleLetterAlphabet()),\n",
       " 'Spheniscus demersus': Seq('ATGGCCCCCAACCTCCGAAAATCCCACCCTCTCCTAAAAACAATCAACAACTCC...TAA', SingleLetterAlphabet()),\n",
       " 'Spheniscus humboldti': Seq('ATGGCCCCCAACCTCCGAAAATCCCACCCTCTCCTAAAAACAATCAACAACTCC...TAA', SingleLetterAlphabet()),\n",
       " 'Spheniscus magellanicus': Seq('ATGGCCCCCAACCTCCGAAAATCCCACCCTCTCCTAAAAACAATCAACAACTCC...TAA', SingleLetterAlphabet())}"
      ]
     },
     "execution_count": 154,
     "metadata": {},
     "output_type": "execute_result"
    }
   ],
   "source": [
    "penguins_cytb_seqs"
   ]
  },
  {
   "cell_type": "markdown",
   "metadata": {},
   "source": [
    "### Part 2: String-Translate Function\n",
    "    * Write a function that translates sequences\n",
    "    * All sequences start at codon position 1\n",
    "    * Complete a function that translates using a lopp over the string of nucleotides\n",
    "    \n",
    "Pseudo-code example:\n",
    "```\n",
    "def translate_function(string_nucleotides): \n",
    "    mito_table = CodonTable.unambiguous_dna_by_name[\"Vertebrate Mitochondrial\"] # this should work using BioPython (be sure to check what this returns)\n",
    "    for-loop through every 3rd position in string_nucleotides to get the codon using range subsets\n",
    "         # IMPORTANT: if the sequence has a stop codon at the end, you should leave it off\n",
    "         # this is how you can retrieve the amino acid: mito_table.forward_table[codon]\n",
    "         add the aa to aa_seq_string\n",
    "     return(aa_seq_string)\n",
    "```\n"
   ]
  },
  {
   "cell_type": "code",
   "execution_count": 155,
   "metadata": {},
   "outputs": [],
   "source": [
    "mito_table = CodonTable.unambiguous_dna_by_name[\"Vertebrate Mitochondrial\"]"
   ]
  },
  {
   "cell_type": "code",
   "execution_count": 156,
   "metadata": {},
   "outputs": [
    {
     "data": {
      "text/plain": [
       "NCBICodonTableDNA(id=2, names=['Vertebrate Mitochondrial', 'SGC1'], ...)"
      ]
     },
     "execution_count": 156,
     "metadata": {},
     "output_type": "execute_result"
    }
   ],
   "source": [
    "mito_table # check to see if object was imported successfully"
   ]
  },
  {
   "cell_type": "code",
   "execution_count": 157,
   "metadata": {},
   "outputs": [],
   "source": [
    "def translate_function(string_nucleotides):\n",
    "    mito_table = CodonTable.unambiguous_dna_by_name[\"Vertebrate Mitochondrial\"]\n",
    "    aa_seq_string = \"\"\n",
    "    i = 0\n",
    "    while i < len(string_nucleotides):\n",
    "        codon = string_nucleotides[i:i+3]\n",
    "        if (codon == 'TAG' or codon == 'TAA' or codon == 'AGA' or codon == 'AGG'):\n",
    "            break\n",
    "        aa = mito_table.forward_table[codon]\n",
    "        aa_seq_string += aa\n",
    "        i += 3\n",
    "    return(aa_seq_string)\n"
   ]
  },
  {
   "cell_type": "markdown",
   "metadata": {},
   "source": [
    "Syntax Explained:\n",
    "\n",
    "Defining the Function \n",
    "1. Create a function called ```translate_function``` with a input argument called ```string_nucleotides```\n",
    "2. The ```string_nucleotides``` argument must be a DNA sequence string variable\n",
    "3. An object called ```mito_table``` is created, this module uses a class called CodonTable which supplies a condon-table and input argument ```unambiguous_dna_by_name``` which allows for a assigned value \"Vertebrate Mitochondrial\" to be referenced from NCBI source: https://biopython.org/DIST/docs/api/Bio.Data.CodonTable-module.html\n",
    "4. a string object called ```aa_seq_string``` is created. This is a object that will be referenced by a variable and will have data passed into during each iteration of the while:if loop and then return at the end of the function\n",
    "5. The iteration object ```i = 0``` is created \n",
    "DNA to Amino Acid Translation ```while``` Loop\n",
    "1. ```while``` our numeric object of ```i``` is less then the length of the sequences defined by the ```string_nucleotides``` argument the loop proceeds\n",
    "2. ```codon``` object created that uses the ```string_nucleotides[i:i+3]``` argument with the condition of 3 nucleotides long. This object will be passed into our ```if``` loop \n",
    "DNA to Amino Acid Translation ```if``` Loop\n",
    "1. If the ```codon``` object is determined to be identical to one of the four \"stop\" codons then the loop ends\n",
    "2. If the ```codon``` object is determined **NOT** to be one of the \"stop\" codons the other option in this if loop is performed\n",
    "    \n",
    "    2.1. Object ```aa``` is created and the one letter amino acid identifier that is translated from the 3 nucleotide codon sequence is given\n",
    "    \n",
    "    2.2. This translated codon amino acid ID in the ```aa``` object is added to the newly created ```aa_seq_string``` object which will be returned at the end of function with the amino acid profile for each sequence.\n",
    "    \n",
    "    2.3 We have ```i``` increase by a value of 3. This is key because this compiles the next 3 nucleotides for the next iteration of the loop. This is how we iterated through an entire DNA nucleotide sequence or until a \"stop\" codon is found\n",
    "    \n",
    "    2.4 As previously stated, once the loop is terminated the function returns the ```aa_seq_string``` object containing the amino acid profiles of each unique DNA sequence."
   ]
  },
  {
   "cell_type": "markdown",
   "metadata": {},
   "source": [
    "### Part 3: Alternative String-Translation Function\n",
    "The provided function utilizes addtional BioPython utilities\n",
    "\n",
    "Source:http://biopython.org/DIST/docs/tutorial/Tutorial.html#htoc25 see section 3.4 and 3.9"
   ]
  },
  {
   "cell_type": "code",
   "execution_count": 158,
   "metadata": {},
   "outputs": [],
   "source": [
    "from Bio.Seq import Seq # Seq type object\n",
    "from Bio.Alphabet import IUPAC\n",
    "def alt_translate_function(string_nucleotides):\n",
    "    coding_dna = Seq(string_nucleotides, IUPAC.unambiguous_dna) # coercion rules\n",
    "    aa_seq_string = coding_dna.translate(table=\"Vertebrate Mitochondrial\", to_stop=True)\n",
    "    return(aa_seq_string)"
   ]
  },
  {
   "cell_type": "markdown",
   "metadata": {},
   "source": [
    "Syntax Explained:\n",
    "\n",
    "Prepare Python Enviroment\n",
    "1. Import required packages (Take note the we import ```Seq``` type object instead of a ```string```)\n",
    "    1.1 A ```Bio.Alphabet``` is defined as well\n",
    "\n",
    "Define Function\n",
    "1. A function a called ```alt_translate_function``` is created again requiring a ```string_nucleotides``` input argument (previously discussed)\n",
    "2. A ```Seq``` object called ```coding_dna``` is created containing the DNA sequences of ```string_nucleotides``` and and we coerce the ```String``` type of data that the DNA sequence will be in to a ```Seq``` type\n",
    "\n",
    "3. An object called ```aa_seq_string``` is created and contains the one letter amino acid identifier obtained by ```coding_dna.translate```. Translation will continue until a \"stop\" codon is reached\n",
    "4. ```return``` of the ```aa_seq_string``` object containg the amino acid profile of each DNA sequence\n",
    "\n",
    "\n",
    "Coercion Rules for Reference:\n",
    "\n",
    "If input is ```Seq```-type object and needs to be coerced into a ```string```-type object:\n",
    "        ```object_name``` = ```seq(string_argument)```\n",
    "\n",
    "If input is ```string```-type object and needs to be coerced into a ```Seq```-type object:\n",
    "        ```object_name``` = ```str(seq_argument)```  "
   ]
  },
  {
   "cell_type": "markdown",
   "metadata": {},
   "source": [
    "### Part 4: Molecular Weight Analysis\n",
    "This function calculates the molecular weight of each amino acid sequence using the ProtParam module\n",
    "\n",
    "Import ProtPara prior to running function\n",
    "```\n",
    "from Bio.SeqUtils.ProtParam import ProteinAnalysis\n",
    "```\n",
    "The constructor takes two arguments. The first is the protein sequence as a string, which is then converted to a sequence object using the Bio.Seq module. This is done just to make sure the sequence is a protein sequence and not anything else.\n",
    "\n",
    "The second argument is optional. If set to True, the weight of the amino acids will be calculated using their monoisotopic mass (the weight of the most abundant isotopes for each element), instead of the average molecular mass (the averaged weight of all stable isotopes for each element). If set to false (the default value) or left out, the IUPAC average molecular mass will be used for the calculation.\n",
    "\n",
    "source: https://biopython.org/DIST/docs/api/Bio.SeqUtils.ProtParam.ProteinAnalysis-class.html\n",
    "\n",
    "Pseudo-code example:\n",
    "```\n",
    "def compute_molecular_weight(aa_seq):\n",
    "# I think the ProtParam functions may require aa_seq to be a string.\n",
    "# It may not work if the amino acid sequence has stop codons.\n",
    "    run the ProteinAnalysis() function on aa_seq\n",
    "\t  return the molecular weight\n",
    "```"
   ]
  },
  {
   "cell_type": "code",
   "execution_count": 159,
   "metadata": {},
   "outputs": [],
   "source": [
    "from Bio.SeqUtils.ProtParam import ProteinAnalysis\n",
    "def calculate_mw(aa_seq):\n",
    "    computed_seq = ProteinAnalysis(aa_seq)\n",
    "    aa_seq_mw = computed_seq.molecular_weight()\n",
    "    return(aa_seq_mw)"
   ]
  },
  {
   "cell_type": "markdown",
   "metadata": {},
   "source": [
    "Syntax Explained:\n",
    "\n",
    "Define Function\n",
    "1. Creates an object called ```calculate_mw``` that requires the ```aa_seq``` input arugument\n",
    "2. The ```aa_seq``` input is the one letter amino acid identifier\n",
    "3. ```computed_seq``` object uses ```ProteinAnalysis(aa_seq)``` to compute molecular weight of the sequence\n",
    "4. ```aa_seq_mw``` contains the ```computed_seq``` object with the computed mw array\n",
    "5. Return the computed mw by using the ```return``` function on the ```aa_seq_mw``` object"
   ]
  },
  {
   "cell_type": "markdown",
   "metadata": {},
   "source": [
    "### Part 5: GC-Content Analysis\n",
    "This function that calculates the GC-content (proportion of \"G\" and \"C\") of each DNA sequence and returns this value"
   ]
  },
  {
   "cell_type": "code",
   "execution_count": 160,
   "metadata": {},
   "outputs": [],
   "source": [
    "def compute_GC_content(string_nucleotides):\n",
    "    count = 0\n",
    "    for base in string_nucleotides:\n",
    "        if (base == 'G' or base == 'C'):\n",
    "            count += 1\n",
    "    return(count / len(string_nucleotides)*100)"
   ]
  },
  {
   "cell_type": "markdown",
   "metadata": {},
   "source": [
    "Syntax Explained: \n",
    "\n",
    "Define Function\n",
    "1. Define ```compute_GC_content``` function that requires a ```string_nucleotides``` input argument\n",
    "        * Remember this input argument must be a string type \n",
    "        * In this case as previously explained is a DNA sequence string\n",
    "        * Check to see if coercion rules apply\n",
    "2. A numeric object ```count``` is created and set to 0. The ```count``` object will be used for enumerating the incidence of \"G\" and \"C\" for each sequence  \n",
    "for loop\n",
    "1. for each base in the sequence argument provided (```for base in string_nucleotides:```)\n",
    "        1.1 if the ```base``` mathces a \"G\" or \"C\" increase ```count``` by a value of 1\n",
    "        1.2. iterate through the entire sequence\n",
    "2. The ```return``` function returns the ```count``` object divided by the length fo the DNA sequence multiplied by 100 to get a percetage.\n"
   ]
  },
  {
   "cell_type": "markdown",
   "metadata": {},
   "source": [
    "Another Method using ```Bio.SeqUtils```"
   ]
  },
  {
   "cell_type": "code",
   "execution_count": 161,
   "metadata": {},
   "outputs": [],
   "source": [
    "from Bio import SeqIO\n",
    "from Bio.SeqUtils import GC\n",
    "\n",
    "gc_values = sorted(GC(rec.seq) for rec in SeqIO.parse(\"penguins_cytb.fasta\", \"fasta\"))"
   ]
  },
  {
   "cell_type": "code",
   "execution_count": 162,
   "metadata": {},
   "outputs": [
    {
     "data": {
      "text/plain": [
       "[47.15660542432196,\n",
       " 47.76902887139108,\n",
       " 48.20647419072616,\n",
       " 48.29396325459317,\n",
       " 48.38145231846019,\n",
       " 49.08136482939633,\n",
       " 49.25634295713036,\n",
       " 49.25634295713036,\n",
       " 49.69378827646544,\n",
       " 50.83114610673666,\n",
       " 50.91863517060367,\n",
       " 51.181102362204726]"
      ]
     },
     "execution_count": 162,
     "metadata": {},
     "output_type": "execute_result"
    }
   ],
   "source": [
    "gc_values"
   ]
  },
  {
   "cell_type": "markdown",
   "metadata": {},
   "source": [
    "## DataFrame Initialization and Modifications"
   ]
  },
  {
   "cell_type": "markdown",
   "metadata": {},
   "source": [
    "#### Read in ```penguins_cytb.fasta``` file\n",
    "\n",
    "```\n",
    "cytb_seqs = get_sequences_from_file(\"penguins_cytb.fasta\") \n",
    "```\n"
   ]
  },
  {
   "cell_type": "code",
   "execution_count": 163,
   "metadata": {},
   "outputs": [],
   "source": [
    "cytb_seqs = get_sequences_from_file(\"penguins_cytb.fasta\") # this previously defined function from part 1 will read in the file and initiate a variable "
   ]
  },
  {
   "cell_type": "markdown",
   "metadata": {},
   "source": [
    "### Initiate DataFrame\n",
    "```\n",
    "penguins_df = pd.read_csv(\"penguins_mass.csv\") # Includes only data for body mass \n",
    "species_list = list(penguins_df.species)\n",
    "```\n",
    "The Pandas library allows us to read in a csv file into a DataFrame that will provide data structures and allow for data visualization along with intergration into other arrarys\n",
    "\n",
    "Then we initiate a list data structure from ```penguins.df.species```"
   ]
  },
  {
   "cell_type": "code",
   "execution_count": 164,
   "metadata": {},
   "outputs": [],
   "source": [
    "penguins_df = pd.read_csv(\"penguins_mass.csv\") # Includes only data for body mass \n",
    "species_list = list(penguins_df.species)"
   ]
  },
  {
   "cell_type": "code",
   "execution_count": 165,
   "metadata": {},
   "outputs": [
    {
     "data": {
      "text/html": [
       "<div>\n",
       "<style scoped>\n",
       "    .dataframe tbody tr th:only-of-type {\n",
       "        vertical-align: middle;\n",
       "    }\n",
       "\n",
       "    .dataframe tbody tr th {\n",
       "        vertical-align: top;\n",
       "    }\n",
       "\n",
       "    .dataframe thead th {\n",
       "        text-align: right;\n",
       "    }\n",
       "</style>\n",
       "<table border=\"1\" class=\"dataframe\">\n",
       "  <thead>\n",
       "    <tr style=\"text-align: right;\">\n",
       "      <th></th>\n",
       "      <th>species</th>\n",
       "      <th>mass</th>\n",
       "    </tr>\n",
       "  </thead>\n",
       "  <tbody>\n",
       "    <tr>\n",
       "      <th>0</th>\n",
       "      <td>Aptenodytes forsteri</td>\n",
       "      <td>28.00</td>\n",
       "    </tr>\n",
       "    <tr>\n",
       "      <th>1</th>\n",
       "      <td>Aptenodytes patagonicus</td>\n",
       "      <td>13.40</td>\n",
       "    </tr>\n",
       "    <tr>\n",
       "      <th>2</th>\n",
       "      <td>Eudyptes chrysocome</td>\n",
       "      <td>2.80</td>\n",
       "    </tr>\n",
       "    <tr>\n",
       "      <th>3</th>\n",
       "      <td>Eudyptes chrysolophus</td>\n",
       "      <td>4.50</td>\n",
       "    </tr>\n",
       "    <tr>\n",
       "      <th>4</th>\n",
       "      <td>Eudyptes sclateri</td>\n",
       "      <td>4.25</td>\n",
       "    </tr>\n",
       "    <tr>\n",
       "      <th>5</th>\n",
       "      <td>Eudyptula minor</td>\n",
       "      <td>1.60</td>\n",
       "    </tr>\n",
       "    <tr>\n",
       "      <th>6</th>\n",
       "      <td>Pygoscelis adeliae</td>\n",
       "      <td>4.60</td>\n",
       "    </tr>\n",
       "    <tr>\n",
       "      <th>7</th>\n",
       "      <td>Pygoscelis antarctica</td>\n",
       "      <td>4.10</td>\n",
       "    </tr>\n",
       "    <tr>\n",
       "      <th>8</th>\n",
       "      <td>Pygoscelis papua</td>\n",
       "      <td>6.10</td>\n",
       "    </tr>\n",
       "    <tr>\n",
       "      <th>9</th>\n",
       "      <td>Spheniscus demersus</td>\n",
       "      <td>3.20</td>\n",
       "    </tr>\n",
       "    <tr>\n",
       "      <th>10</th>\n",
       "      <td>Spheniscus humboldti</td>\n",
       "      <td>4.75</td>\n",
       "    </tr>\n",
       "    <tr>\n",
       "      <th>11</th>\n",
       "      <td>Spheniscus magellanicus</td>\n",
       "      <td>3.40</td>\n",
       "    </tr>\n",
       "  </tbody>\n",
       "</table>\n",
       "</div>"
      ],
      "text/plain": [
       "                    species   mass\n",
       "0      Aptenodytes forsteri  28.00\n",
       "1   Aptenodytes patagonicus  13.40\n",
       "2       Eudyptes chrysocome   2.80\n",
       "3     Eudyptes chrysolophus   4.50\n",
       "4         Eudyptes sclateri   4.25\n",
       "5           Eudyptula minor   1.60\n",
       "6        Pygoscelis adeliae   4.60\n",
       "7     Pygoscelis antarctica   4.10\n",
       "8          Pygoscelis papua   6.10\n",
       "9       Spheniscus demersus   3.20\n",
       "10     Spheniscus humboldti   4.75\n",
       "11  Spheniscus magellanicus   3.40"
      ]
     },
     "execution_count": 165,
     "metadata": {},
     "output_type": "execute_result"
    }
   ],
   "source": [
    "penguins_df"
   ]
  },
  {
   "cell_type": "code",
   "execution_count": 166,
   "metadata": {},
   "outputs": [
    {
     "data": {
      "text/plain": [
       "['Aptenodytes forsteri',\n",
       " 'Aptenodytes patagonicus',\n",
       " 'Eudyptes chrysocome',\n",
       " 'Eudyptes chrysolophus',\n",
       " 'Eudyptes sclateri',\n",
       " 'Eudyptula minor',\n",
       " 'Pygoscelis adeliae',\n",
       " 'Pygoscelis antarctica',\n",
       " 'Pygoscelis papua',\n",
       " 'Spheniscus demersus',\n",
       " 'Spheniscus humboldti',\n",
       " 'Spheniscus magellanicus']"
      ]
     },
     "execution_count": 166,
     "metadata": {},
     "output_type": "execute_result"
    }
   ],
   "source": [
    "species_list"
   ]
  },
  {
   "cell_type": "markdown",
   "metadata": {},
   "source": [
    "### Part 6: DataFrame Modification\n",
    "Two new columsn will be added to the ```penguins_df``` from the data returned for (1) GC-content and (2) molecular weight iterations \n",
    "\n",
    "A value of 'NaN' will be returned to indicate empty cells"
   ]
  },
  {
   "cell_type": "code",
   "execution_count": 167,
   "metadata": {},
   "outputs": [],
   "source": [
    "penguins_df['molecular_weight'] = 'NaN'\n",
    "penguins_df['GC_content'] = 'NaN'"
   ]
  },
  {
   "cell_type": "code",
   "execution_count": 168,
   "metadata": {},
   "outputs": [
    {
     "data": {
      "text/html": [
       "<div>\n",
       "<style scoped>\n",
       "    .dataframe tbody tr th:only-of-type {\n",
       "        vertical-align: middle;\n",
       "    }\n",
       "\n",
       "    .dataframe tbody tr th {\n",
       "        vertical-align: top;\n",
       "    }\n",
       "\n",
       "    .dataframe thead th {\n",
       "        text-align: right;\n",
       "    }\n",
       "</style>\n",
       "<table border=\"1\" class=\"dataframe\">\n",
       "  <thead>\n",
       "    <tr style=\"text-align: right;\">\n",
       "      <th></th>\n",
       "      <th>species</th>\n",
       "      <th>mass</th>\n",
       "      <th>molecular_weight</th>\n",
       "      <th>GC_content</th>\n",
       "    </tr>\n",
       "  </thead>\n",
       "  <tbody>\n",
       "    <tr>\n",
       "      <th>0</th>\n",
       "      <td>Aptenodytes forsteri</td>\n",
       "      <td>28.00</td>\n",
       "      <td>NaN</td>\n",
       "      <td>NaN</td>\n",
       "    </tr>\n",
       "    <tr>\n",
       "      <th>1</th>\n",
       "      <td>Aptenodytes patagonicus</td>\n",
       "      <td>13.40</td>\n",
       "      <td>NaN</td>\n",
       "      <td>NaN</td>\n",
       "    </tr>\n",
       "    <tr>\n",
       "      <th>2</th>\n",
       "      <td>Eudyptes chrysocome</td>\n",
       "      <td>2.80</td>\n",
       "      <td>NaN</td>\n",
       "      <td>NaN</td>\n",
       "    </tr>\n",
       "    <tr>\n",
       "      <th>3</th>\n",
       "      <td>Eudyptes chrysolophus</td>\n",
       "      <td>4.50</td>\n",
       "      <td>NaN</td>\n",
       "      <td>NaN</td>\n",
       "    </tr>\n",
       "    <tr>\n",
       "      <th>4</th>\n",
       "      <td>Eudyptes sclateri</td>\n",
       "      <td>4.25</td>\n",
       "      <td>NaN</td>\n",
       "      <td>NaN</td>\n",
       "    </tr>\n",
       "    <tr>\n",
       "      <th>5</th>\n",
       "      <td>Eudyptula minor</td>\n",
       "      <td>1.60</td>\n",
       "      <td>NaN</td>\n",
       "      <td>NaN</td>\n",
       "    </tr>\n",
       "    <tr>\n",
       "      <th>6</th>\n",
       "      <td>Pygoscelis adeliae</td>\n",
       "      <td>4.60</td>\n",
       "      <td>NaN</td>\n",
       "      <td>NaN</td>\n",
       "    </tr>\n",
       "    <tr>\n",
       "      <th>7</th>\n",
       "      <td>Pygoscelis antarctica</td>\n",
       "      <td>4.10</td>\n",
       "      <td>NaN</td>\n",
       "      <td>NaN</td>\n",
       "    </tr>\n",
       "    <tr>\n",
       "      <th>8</th>\n",
       "      <td>Pygoscelis papua</td>\n",
       "      <td>6.10</td>\n",
       "      <td>NaN</td>\n",
       "      <td>NaN</td>\n",
       "    </tr>\n",
       "    <tr>\n",
       "      <th>9</th>\n",
       "      <td>Spheniscus demersus</td>\n",
       "      <td>3.20</td>\n",
       "      <td>NaN</td>\n",
       "      <td>NaN</td>\n",
       "    </tr>\n",
       "    <tr>\n",
       "      <th>10</th>\n",
       "      <td>Spheniscus humboldti</td>\n",
       "      <td>4.75</td>\n",
       "      <td>NaN</td>\n",
       "      <td>NaN</td>\n",
       "    </tr>\n",
       "    <tr>\n",
       "      <th>11</th>\n",
       "      <td>Spheniscus magellanicus</td>\n",
       "      <td>3.40</td>\n",
       "      <td>NaN</td>\n",
       "      <td>NaN</td>\n",
       "    </tr>\n",
       "  </tbody>\n",
       "</table>\n",
       "</div>"
      ],
      "text/plain": [
       "                    species   mass molecular_weight GC_content\n",
       "0      Aptenodytes forsteri  28.00              NaN        NaN\n",
       "1   Aptenodytes patagonicus  13.40              NaN        NaN\n",
       "2       Eudyptes chrysocome   2.80              NaN        NaN\n",
       "3     Eudyptes chrysolophus   4.50              NaN        NaN\n",
       "4         Eudyptes sclateri   4.25              NaN        NaN\n",
       "5           Eudyptula minor   1.60              NaN        NaN\n",
       "6        Pygoscelis adeliae   4.60              NaN        NaN\n",
       "7     Pygoscelis antarctica   4.10              NaN        NaN\n",
       "8          Pygoscelis papua   6.10              NaN        NaN\n",
       "9       Spheniscus demersus   3.20              NaN        NaN\n",
       "10     Spheniscus humboldti   4.75              NaN        NaN\n",
       "11  Spheniscus magellanicus   3.40              NaN        NaN"
      ]
     },
     "execution_count": 168,
     "metadata": {},
     "output_type": "execute_result"
    }
   ],
   "source": [
    "penguins_df"
   ]
  },
  {
   "cell_type": "markdown",
   "metadata": {},
   "source": [
    "### Part 7: for-loop function\n",
    "This function is a  for-loop that translates each sequence and also gets molecular weight and computes the GC contentof each translated sequence and adds those data to DataFrame\n",
    "\n",
    "Pseudo-code\n",
    "for key, value in cytb_seqs.items():\n",
    "```\n",
    "aa_seq = nuc2aa_translate_function(value) # whichever function you prefer of #2 or #3\n",
    "#     get the molecular weight of aa_seq\n",
    "#     get the GC content of the DNA sequence\n",
    "#     fill in empty cells in DF that you created above\n",
    "```"
   ]
  },
  {
   "cell_type": "code",
   "execution_count": 169,
   "metadata": {},
   "outputs": [],
   "source": [
    "for key, value in cytb_seqs.items():\n",
    "    aa_seq = translate_function(str(value)) # coerced into a string-type\n",
    "    mol_weight = calculate_mw(str(aa_seq))\n",
    "    GC_content = compute_GC_content(value)\n",
    "    penguins_df.loc[penguins_df['species'].str.contains(key), 'molecular_weight'] = mol_weight\n",
    "    penguins_df.loc[penguins_df['species'].str.contains(key), 'GC_content'] = GC_content"
   ]
  },
  {
   "cell_type": "markdown",
   "metadata": {},
   "source": [
    "Syntax Explained:\n",
    "\n",
    "for loop\n",
    "1. a ```for``` loop is created that iterates through each item of the ```cytb_seqs``` dictionary created by the first function of this analysis\n",
    "    \n",
    "Loop Iteration (Invocation of Previously Defined Functions)\n",
    "1. An object called ```aa_seq``` is created to store the result of the second function for DNA to Amino Acid Translation on the ```value``` variable \n",
    "\n",
    "Another way to think of it is to say that the function acts on the ```value``` variable and stores the results in the ```aa_seq``` object\n",
    "  \n",
    "2. An object called ```mol_weight``` is created to store the result of the forth function for the calculating the  molecular weight of a amino acid sequence on the ```aa_seq``` object\n",
    "    \n",
    "3. An object called ```GC_content``` is created to store the result of the fifth function for calculating the GC-content in terms of percentage on the ```value``` variable\n",
    "    \n",
    "4. ```loc``` reads the ```penguins.df``` DataFrame for the cell that has in the ```species``` column the species name defined by the ```key``` variable, this gives a row coordinate indicator, and the column ```Molecular_Weight``` as a column coordinate (this adds the column label). The value of the cell (which is empty at this point) is replaced with the value provided from ```mol_weight``` being guided by the ```key``` in the ```species``` column\n",
    "\n",
    "\n",
    "5. ```loc``` reads the ```penguins.df``` DataFrame for the cell that has in the ```species``` column the species name defined by the ```key``` variable, this gives a row coordinate indicator, and the column ```GC_content``` as a column coordinate (this adds the column label). The value of the cell (which is empty at this point) is replaced with the value from ```GC_content``` being guided by the ```key``` in the ```species``` column"
   ]
  },
  {
   "cell_type": "code",
   "execution_count": 170,
   "metadata": {},
   "outputs": [
    {
     "data": {
      "text/html": [
       "<div>\n",
       "<style scoped>\n",
       "    .dataframe tbody tr th:only-of-type {\n",
       "        vertical-align: middle;\n",
       "    }\n",
       "\n",
       "    .dataframe tbody tr th {\n",
       "        vertical-align: top;\n",
       "    }\n",
       "\n",
       "    .dataframe thead th {\n",
       "        text-align: right;\n",
       "    }\n",
       "</style>\n",
       "<table border=\"1\" class=\"dataframe\">\n",
       "  <thead>\n",
       "    <tr style=\"text-align: right;\">\n",
       "      <th></th>\n",
       "      <th>species</th>\n",
       "      <th>mass</th>\n",
       "      <th>molecular_weight</th>\n",
       "      <th>GC_content</th>\n",
       "    </tr>\n",
       "  </thead>\n",
       "  <tbody>\n",
       "    <tr>\n",
       "      <th>0</th>\n",
       "      <td>Aptenodytes forsteri</td>\n",
       "      <td>28.00</td>\n",
       "      <td>42459.6</td>\n",
       "      <td>48.3815</td>\n",
       "    </tr>\n",
       "    <tr>\n",
       "      <th>1</th>\n",
       "      <td>Aptenodytes patagonicus</td>\n",
       "      <td>13.40</td>\n",
       "      <td>42563.7</td>\n",
       "      <td>49.6938</td>\n",
       "    </tr>\n",
       "    <tr>\n",
       "      <th>2</th>\n",
       "      <td>Eudyptes chrysocome</td>\n",
       "      <td>2.80</td>\n",
       "      <td>42475.6</td>\n",
       "      <td>51.1811</td>\n",
       "    </tr>\n",
       "    <tr>\n",
       "      <th>3</th>\n",
       "      <td>Eudyptes chrysolophus</td>\n",
       "      <td>4.50</td>\n",
       "      <td>42445.5</td>\n",
       "      <td>50.9186</td>\n",
       "    </tr>\n",
       "    <tr>\n",
       "      <th>4</th>\n",
       "      <td>Eudyptes sclateri</td>\n",
       "      <td>4.25</td>\n",
       "      <td>42475.6</td>\n",
       "      <td>50.8311</td>\n",
       "    </tr>\n",
       "    <tr>\n",
       "      <th>5</th>\n",
       "      <td>Eudyptula minor</td>\n",
       "      <td>1.60</td>\n",
       "      <td>42491.6</td>\n",
       "      <td>49.2563</td>\n",
       "    </tr>\n",
       "    <tr>\n",
       "      <th>6</th>\n",
       "      <td>Pygoscelis adeliae</td>\n",
       "      <td>4.60</td>\n",
       "      <td>42458.6</td>\n",
       "      <td>49.0814</td>\n",
       "    </tr>\n",
       "    <tr>\n",
       "      <th>7</th>\n",
       "      <td>Pygoscelis antarctica</td>\n",
       "      <td>4.10</td>\n",
       "      <td>42404.5</td>\n",
       "      <td>47.769</td>\n",
       "    </tr>\n",
       "    <tr>\n",
       "      <th>8</th>\n",
       "      <td>Pygoscelis papua</td>\n",
       "      <td>6.10</td>\n",
       "      <td>42595.9</td>\n",
       "      <td>47.1566</td>\n",
       "    </tr>\n",
       "    <tr>\n",
       "      <th>9</th>\n",
       "      <td>Spheniscus demersus</td>\n",
       "      <td>3.20</td>\n",
       "      <td>42431.5</td>\n",
       "      <td>48.294</td>\n",
       "    </tr>\n",
       "    <tr>\n",
       "      <th>10</th>\n",
       "      <td>Spheniscus humboldti</td>\n",
       "      <td>4.75</td>\n",
       "      <td>42399.6</td>\n",
       "      <td>49.2563</td>\n",
       "    </tr>\n",
       "    <tr>\n",
       "      <th>11</th>\n",
       "      <td>Spheniscus magellanicus</td>\n",
       "      <td>3.40</td>\n",
       "      <td>42459.6</td>\n",
       "      <td>48.2065</td>\n",
       "    </tr>\n",
       "  </tbody>\n",
       "</table>\n",
       "</div>"
      ],
      "text/plain": [
       "                    species   mass molecular_weight GC_content\n",
       "0      Aptenodytes forsteri  28.00          42459.6    48.3815\n",
       "1   Aptenodytes patagonicus  13.40          42563.7    49.6938\n",
       "2       Eudyptes chrysocome   2.80          42475.6    51.1811\n",
       "3     Eudyptes chrysolophus   4.50          42445.5    50.9186\n",
       "4         Eudyptes sclateri   4.25          42475.6    50.8311\n",
       "5           Eudyptula minor   1.60          42491.6    49.2563\n",
       "6        Pygoscelis adeliae   4.60          42458.6    49.0814\n",
       "7     Pygoscelis antarctica   4.10          42404.5     47.769\n",
       "8          Pygoscelis papua   6.10          42595.9    47.1566\n",
       "9       Spheniscus demersus   3.20          42431.5     48.294\n",
       "10     Spheniscus humboldti   4.75          42399.6    49.2563\n",
       "11  Spheniscus magellanicus   3.40          42459.6    48.2065"
      ]
     },
     "execution_count": 170,
     "metadata": {},
     "output_type": "execute_result"
    }
   ],
   "source": [
    "penguins_df"
   ]
  },
  {
   "cell_type": "markdown",
   "metadata": {},
   "source": [
    "### Part 8:  Data Visualization\n",
    "Bar-chart of the mass of each species names\n",
    "\n",
    "Prepare python environment\n",
    "```\n",
    "import matplotlib.pyplot as plt\n",
    "import seaborn as sns\n",
    "```"
   ]
  },
  {
   "cell_type": "code",
   "execution_count": 171,
   "metadata": {},
   "outputs": [],
   "source": [
    "import matplotlib.pyplot as plt\n",
    "import seaborn as sns"
   ]
  },
  {
   "cell_type": "markdown",
   "metadata": {},
   "source": [
    "#### Also, remember that you need to include an inline command if you’re using a Jupyter notebook or IPython in spyder:\n",
    "```\n",
    "%matplotlib inline\n",
    "```\n"
   ]
  },
  {
   "cell_type": "code",
   "execution_count": 172,
   "metadata": {},
   "outputs": [],
   "source": [
    "matplotlib inline"
   ]
  },
  {
   "cell_type": "code",
   "execution_count": 173,
   "metadata": {},
   "outputs": [
    {
     "data": {
      "text/plain": [
       "Text(0.5, 1.0, 'Avg. Body Mass Per Species')"
      ]
     },
     "execution_count": 173,
     "metadata": {},
     "output_type": "execute_result"
    },
    {
     "data": {
      "image/png": "[encoded data removed]",
      "text/plain": [
       "<Figure size 432x288 with 1 Axes>"
      ]
     },
     "metadata": {
      "needs_background": "light"
     },
     "output_type": "display_data"
    }
   ],
   "source": [
    "g = sns.barplot(\"species\",\"mass\", data=penguins_df)\n",
    "g.set_xticklabels(g.get_xticklabels(), rotation=30, ha='right')\n",
    "g.set_title('Avg. Body Mass Per Species')"
   ]
  },
  {
   "cell_type": "markdown",
   "metadata": {},
   "source": [
    "#### Looking at the visual representation of the data we can answer two questions\n",
    "\n",
    "  Question 1: What is the smallest penguin species? \n",
    "        \n",
    "  Answer: *Eudyputla minor*\n",
    "  \n",
    "  Question 2: What else is interesting about this species?\n",
    "        \n",
    "  Answer: *Eudyputla minor* known as the **little penguin** is the smallest species of penguin and go by several other names including **little blue penguins** due to their slate-blue plumage \n",
    "  \n",
    "source: https://en.wikipedia.org/wiki/Little_penguin"
   ]
  },
  {
   "cell_type": "markdown",
   "metadata": {},
   "source": [
    "### Part 9: Data Visualization\n",
    "molecular weight (y-axis) as a function of GC-content (x-axis)"
   ]
  },
  {
   "cell_type": "code",
   "execution_count": 174,
   "metadata": {},
   "outputs": [
    {
     "data": {
      "image/png": "[encoded data removed]",
      "text/plain": [
       "<Figure size 360x360 with 1 Axes>"
      ]
     },
     "metadata": {
      "needs_background": "light"
     },
     "output_type": "display_data"
    }
   ],
   "source": [
    "h = sns.lmplot(\"GC_content\",\"molecular_weight\", data=penguins_df, fit_reg=False)"
   ]
  },
  {
   "cell_type": "markdown",
   "metadata": {},
   "source": [
    "### Part 10: Save New DataFrame\n",
    "Write modified ```penguins_df``` to ```penguins_mass_cytb.csv```"
   ]
  },
  {
   "cell_type": "code",
   "execution_count": 175,
   "metadata": {},
   "outputs": [],
   "source": [
    "penguins_df.to_csv(\"penguins_mass_cytb.csv\", index = False)"
   ]
  },
  {
   "cell_type": "code",
   "execution_count": 176,
   "metadata": {},
   "outputs": [
    {
     "data": {
      "text/html": [
       "<div>\n",
       "<style scoped>\n",
       "    .dataframe tbody tr th:only-of-type {\n",
       "        vertical-align: middle;\n",
       "    }\n",
       "\n",
       "    .dataframe tbody tr th {\n",
       "        vertical-align: top;\n",
       "    }\n",
       "\n",
       "    .dataframe thead th {\n",
       "        text-align: right;\n",
       "    }\n",
       "</style>\n",
       "<table border=\"1\" class=\"dataframe\">\n",
       "  <thead>\n",
       "    <tr style=\"text-align: right;\">\n",
       "      <th></th>\n",
       "      <th>species</th>\n",
       "      <th>mass</th>\n",
       "      <th>molecular_weight</th>\n",
       "      <th>GC_content</th>\n",
       "    </tr>\n",
       "  </thead>\n",
       "  <tbody>\n",
       "    <tr>\n",
       "      <th>0</th>\n",
       "      <td>Aptenodytes forsteri</td>\n",
       "      <td>28.00</td>\n",
       "      <td>42459.6021</td>\n",
       "      <td>48.381452</td>\n",
       "    </tr>\n",
       "    <tr>\n",
       "      <th>1</th>\n",
       "      <td>Aptenodytes patagonicus</td>\n",
       "      <td>13.40</td>\n",
       "      <td>42563.7067</td>\n",
       "      <td>49.693788</td>\n",
       "    </tr>\n",
       "    <tr>\n",
       "      <th>2</th>\n",
       "      <td>Eudyptes chrysocome</td>\n",
       "      <td>2.80</td>\n",
       "      <td>42475.5753</td>\n",
       "      <td>51.181102</td>\n",
       "    </tr>\n",
       "    <tr>\n",
       "      <th>3</th>\n",
       "      <td>Eudyptes chrysolophus</td>\n",
       "      <td>4.50</td>\n",
       "      <td>42445.5493</td>\n",
       "      <td>50.918635</td>\n",
       "    </tr>\n",
       "    <tr>\n",
       "      <th>4</th>\n",
       "      <td>Eudyptes sclateri</td>\n",
       "      <td>4.25</td>\n",
       "      <td>42475.5753</td>\n",
       "      <td>50.831146</td>\n",
       "    </tr>\n",
       "    <tr>\n",
       "      <th>5</th>\n",
       "      <td>Eudyptula minor</td>\n",
       "      <td>1.60</td>\n",
       "      <td>42491.6408</td>\n",
       "      <td>49.256343</td>\n",
       "    </tr>\n",
       "    <tr>\n",
       "      <th>6</th>\n",
       "      <td>Pygoscelis adeliae</td>\n",
       "      <td>4.60</td>\n",
       "      <td>42458.6140</td>\n",
       "      <td>49.081365</td>\n",
       "    </tr>\n",
       "    <tr>\n",
       "      <th>7</th>\n",
       "      <td>Pygoscelis antarctica</td>\n",
       "      <td>4.10</td>\n",
       "      <td>42404.5423</td>\n",
       "      <td>47.769029</td>\n",
       "    </tr>\n",
       "    <tr>\n",
       "      <th>8</th>\n",
       "      <td>Pygoscelis papua</td>\n",
       "      <td>6.10</td>\n",
       "      <td>42595.8759</td>\n",
       "      <td>47.156605</td>\n",
       "    </tr>\n",
       "    <tr>\n",
       "      <th>9</th>\n",
       "      <td>Spheniscus demersus</td>\n",
       "      <td>3.20</td>\n",
       "      <td>42431.5490</td>\n",
       "      <td>48.293963</td>\n",
       "    </tr>\n",
       "    <tr>\n",
       "      <th>10</th>\n",
       "      <td>Spheniscus humboldti</td>\n",
       "      <td>4.75</td>\n",
       "      <td>42399.5520</td>\n",
       "      <td>49.256343</td>\n",
       "    </tr>\n",
       "    <tr>\n",
       "      <th>11</th>\n",
       "      <td>Spheniscus magellanicus</td>\n",
       "      <td>3.40</td>\n",
       "      <td>42459.6021</td>\n",
       "      <td>48.206474</td>\n",
       "    </tr>\n",
       "  </tbody>\n",
       "</table>\n",
       "</div>"
      ],
      "text/plain": [
       "                    species   mass  molecular_weight  GC_content\n",
       "0      Aptenodytes forsteri  28.00        42459.6021   48.381452\n",
       "1   Aptenodytes patagonicus  13.40        42563.7067   49.693788\n",
       "2       Eudyptes chrysocome   2.80        42475.5753   51.181102\n",
       "3     Eudyptes chrysolophus   4.50        42445.5493   50.918635\n",
       "4         Eudyptes sclateri   4.25        42475.5753   50.831146\n",
       "5           Eudyptula minor   1.60        42491.6408   49.256343\n",
       "6        Pygoscelis adeliae   4.60        42458.6140   49.081365\n",
       "7     Pygoscelis antarctica   4.10        42404.5423   47.769029\n",
       "8          Pygoscelis papua   6.10        42595.8759   47.156605\n",
       "9       Spheniscus demersus   3.20        42431.5490   48.293963\n",
       "10     Spheniscus humboldti   4.75        42399.5520   49.256343\n",
       "11  Spheniscus magellanicus   3.40        42459.6021   48.206474"
      ]
     },
     "execution_count": 176,
     "metadata": {},
     "output_type": "execute_result"
    }
   ],
   "source": [
    "pd.read_csv(\"penguins_mass_cytb.csv\")"
   ]
  },
  {
   "cell_type": "markdown",
   "metadata": {},
   "source": [
    "### Part 11: Additional DataFrame Analysis"
   ]
  },
  {
   "cell_type": "code",
   "execution_count": 177,
   "metadata": {},
   "outputs": [
    {
     "data": {
      "text/plain": [
       "pandas.core.frame.DataFrame"
      ]
     },
     "execution_count": 177,
     "metadata": {},
     "output_type": "execute_result"
    }
   ],
   "source": [
    "type(penguins_df) # the data type of the data stored"
   ]
  },
  {
   "cell_type": "code",
   "execution_count": 178,
   "metadata": {},
   "outputs": [
    {
     "data": {
      "text/plain": [
       "pandas.core.frame.DataFrame"
      ]
     },
     "execution_count": 178,
     "metadata": {},
     "output_type": "execute_result"
    }
   ],
   "source": [
    "penguins_df.__class__ # differnt syntax same output, penguins_df is <class 'pandas.core.frame.DataFrame'>"
   ]
  },
  {
   "cell_type": "code",
   "execution_count": 179,
   "metadata": {},
   "outputs": [
    {
     "data": {
      "text/plain": [
       "species              object\n",
       "mass                float64\n",
       "molecular_weight     object\n",
       "GC_content           object\n",
       "dtype: object"
      ]
     },
     "execution_count": 179,
     "metadata": {},
     "output_type": "execute_result"
    }
   ],
   "source": [
    "penguins_df.dtypes"
   ]
  },
  {
   "cell_type": "code",
   "execution_count": 180,
   "metadata": {},
   "outputs": [
    {
     "data": {
      "text/plain": [
       "(12, 4)"
      ]
     },
     "execution_count": 180,
     "metadata": {},
     "output_type": "execute_result"
    }
   ],
   "source": [
    "penguins_df.shape"
   ]
  },
  {
   "cell_type": "code",
   "execution_count": 181,
   "metadata": {},
   "outputs": [
    {
     "data": {
      "text/plain": [
       "array(['Aptenodytes forsteri', 'Aptenodytes patagonicus',\n",
       "       'Eudyptes chrysocome', 'Eudyptes chrysolophus',\n",
       "       'Eudyptes sclateri', 'Eudyptula minor', 'Pygoscelis adeliae',\n",
       "       'Pygoscelis antarctica', 'Pygoscelis papua', 'Spheniscus demersus',\n",
       "       'Spheniscus humboldti', 'Spheniscus magellanicus'], dtype=object)"
      ]
     },
     "execution_count": 181,
     "metadata": {},
     "output_type": "execute_result"
    }
   ],
   "source": [
    "pd.unique(penguins_df['species'])"
   ]
  },
  {
   "cell_type": "code",
   "execution_count": 182,
   "metadata": {},
   "outputs": [],
   "source": [
    "import math\n",
    "import numpy as np"
   ]
  },
  {
   "cell_type": "code",
   "execution_count": 183,
   "metadata": {},
   "outputs": [
    {
     "name": "stdout",
     "output_type": "stream",
     "text": [
      "                    species   mass molecular_weight GC_content  log_value\n",
      "0      Aptenodytes forsteri  28.00          42459.6    48.3815   3.332205\n",
      "1   Aptenodytes patagonicus  13.40          42563.7    49.6938   2.595255\n",
      "2       Eudyptes chrysocome   2.80          42475.6    51.1811   1.029619\n",
      "3     Eudyptes chrysolophus   4.50          42445.5    50.9186   1.504077\n",
      "4         Eudyptes sclateri   4.25          42475.6    50.8311   1.446919\n",
      "5           Eudyptula minor   1.60          42491.6    49.2563   0.470004\n",
      "6        Pygoscelis adeliae   4.60          42458.6    49.0814   1.526056\n",
      "7     Pygoscelis antarctica   4.10          42404.5     47.769   1.410987\n",
      "8          Pygoscelis papua   6.10          42595.9    47.1566   1.808289\n",
      "9       Spheniscus demersus   3.20          42431.5     48.294   1.163151\n",
      "10     Spheniscus humboldti   4.75          42399.6    49.2563   1.558145\n",
      "11  Spheniscus magellanicus   3.40          42459.6    48.2065   1.223775\n"
     ]
    }
   ],
   "source": [
    "penguins_df['log_value'] = np.log(penguins_df['mass']) # lets perform a log transformation on mass\n",
    "print(penguins_df)"
   ]
  }
 ],
 "metadata": {
  "kernelspec": {
   "display_name": "Python 3",
   "language": "python",
   "name": "python3"
  },
  "language_info": {
   "codemirror_mode": {
    "name": "ipython",
    "version": 3
   },
   "file_extension": ".py",
   "mimetype": "text/x-python",
   "name": "python",
   "nbconvert_exporter": "python",
   "pygments_lexer": "ipython3",
   "version": "3.7.5"
  }
 },
 "nbformat": 4,
 "nbformat_minor": 2
}
